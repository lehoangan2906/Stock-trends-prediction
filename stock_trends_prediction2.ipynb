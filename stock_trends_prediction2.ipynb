{
 "cells": [
  {
   "cell_type": "code",
   "execution_count": 1,
   "metadata": {},
   "outputs": [
    {
     "data": {
      "text/html": [
       "        <script type=\"text/javascript\">\n",
       "        window.PlotlyConfig = {MathJaxConfig: 'local'};\n",
       "        if (window.MathJax && window.MathJax.Hub && window.MathJax.Hub.Config) {window.MathJax.Hub.Config({SVG: {font: \"STIX-Web\"}});}\n",
       "        if (typeof require !== 'undefined') {\n",
       "        require.undef(\"plotly\");\n",
       "        requirejs.config({\n",
       "            paths: {\n",
       "                'plotly': ['https://cdn.plot.ly/plotly-2.16.1.min']\n",
       "            }\n",
       "        });\n",
       "        require(['plotly'], function(Plotly) {\n",
       "            window._Plotly = Plotly;\n",
       "        });\n",
       "        }\n",
       "        </script>\n",
       "        "
      ]
     },
     "metadata": {},
     "output_type": "display_data"
    }
   ],
   "source": [
    "import pandas as pd\n",
    "import numpy as np\n",
    "import matplotlib.pyplot as plt\n",
    "\n",
    "import chart_studio.plotly as py\n",
    "import plotly.graph_objs as go\n",
    "from plotly.offline import plot\n",
    "\n",
    "#for offline plotting\n",
    "from plotly.offline import download_plotlyjs, init_notebook_mode, plot, iplot\n",
    "init_notebook_mode(connected=True) \n",
    "from sklearn.linear_model import LinearRegression"
   ]
  },
  {
   "cell_type": "code",
   "execution_count": 2,
   "metadata": {},
   "outputs": [],
   "source": [
    "# Splitting the dataset into train and test set\n",
    "dataset = pd.read_csv('FPT.csv')\n",
    "dataset_size = len(dataset)\n",
    "\n",
    "threshold = int((2/3) * dataset_size)\n",
    "test = dataset.loc[0:threshold, :]\n",
    "train = dataset.loc[threshold:, :]\n",
    "train.to_csv('trainset_FPT.csv', index = False)\n",
    "test.to_csv('testset_FPT.csv', index = False)"
   ]
  },
  {
   "cell_type": "code",
   "execution_count": 13,
   "metadata": {},
   "outputs": [
    {
     "data": {
      "text/html": [
       "<div>\n",
       "<style scoped>\n",
       "    .dataframe tbody tr th:only-of-type {\n",
       "        vertical-align: middle;\n",
       "    }\n",
       "\n",
       "    .dataframe tbody tr th {\n",
       "        vertical-align: top;\n",
       "    }\n",
       "\n",
       "    .dataframe thead th {\n",
       "        text-align: right;\n",
       "    }\n",
       "</style>\n",
       "<table border=\"1\" class=\"dataframe\">\n",
       "  <thead>\n",
       "    <tr style=\"text-align: right;\">\n",
       "      <th></th>\n",
       "      <th>Date</th>\n",
       "      <th>Open</th>\n",
       "      <th>High</th>\n",
       "      <th>Low</th>\n",
       "      <th>Close</th>\n",
       "      <th>Volume</th>\n",
       "    </tr>\n",
       "  </thead>\n",
       "  <tbody>\n",
       "    <tr>\n",
       "      <th>0</th>\n",
       "      <td>5/21/2020 9:46</td>\n",
       "      <td>49.00</td>\n",
       "      <td>49.0</td>\n",
       "      <td>48.95</td>\n",
       "      <td>49.00</td>\n",
       "      <td>8050</td>\n",
       "    </tr>\n",
       "    <tr>\n",
       "      <th>1</th>\n",
       "      <td>5/21/2020 9:47</td>\n",
       "      <td>48.95</td>\n",
       "      <td>49.0</td>\n",
       "      <td>48.95</td>\n",
       "      <td>48.95</td>\n",
       "      <td>15800</td>\n",
       "    </tr>\n",
       "    <tr>\n",
       "      <th>2</th>\n",
       "      <td>5/21/2020 9:48</td>\n",
       "      <td>48.95</td>\n",
       "      <td>49.0</td>\n",
       "      <td>48.95</td>\n",
       "      <td>48.95</td>\n",
       "      <td>6660</td>\n",
       "    </tr>\n",
       "    <tr>\n",
       "      <th>3</th>\n",
       "      <td>5/21/2020 9:49</td>\n",
       "      <td>48.90</td>\n",
       "      <td>48.9</td>\n",
       "      <td>48.90</td>\n",
       "      <td>48.90</td>\n",
       "      <td>270</td>\n",
       "    </tr>\n",
       "    <tr>\n",
       "      <th>4</th>\n",
       "      <td>5/21/2020 9:50</td>\n",
       "      <td>49.00</td>\n",
       "      <td>49.0</td>\n",
       "      <td>49.00</td>\n",
       "      <td>49.00</td>\n",
       "      <td>31050</td>\n",
       "    </tr>\n",
       "  </tbody>\n",
       "</table>\n",
       "</div>"
      ],
      "text/plain": [
       "             Date   Open  High    Low  Close  Volume\n",
       "0  5/21/2020 9:46  49.00  49.0  48.95  49.00    8050\n",
       "1  5/21/2020 9:47  48.95  49.0  48.95  48.95   15800\n",
       "2  5/21/2020 9:48  48.95  49.0  48.95  48.95    6660\n",
       "3  5/21/2020 9:49  48.90  48.9  48.90  48.90     270\n",
       "4  5/21/2020 9:50  49.00  49.0  49.00  49.00   31050"
      ]
     },
     "execution_count": 13,
     "metadata": {},
     "output_type": "execute_result"
    }
   ],
   "source": [
    "dataset_train = pd.read_csv('trainset_FPT.csv')\n",
    "dataset_train = dataset_train.drop(['Ticker', 'Open Interest'], axis = 1)\n",
    "dataset_train = dataset_train.rename(columns = {'Date/Time':'Date'})\n",
    "dataset_train.head()"
   ]
  },
  {
   "cell_type": "code",
   "execution_count": 15,
   "metadata": {},
   "outputs": [
    {
     "name": "stdout",
     "output_type": "stream",
     "text": [
      "<class 'pandas.core.frame.DataFrame'>\n",
      "RangeIndex: 32469 entries, 0 to 32468\n",
      "Data columns (total 6 columns):\n",
      " #   Column  Non-Null Count  Dtype  \n",
      "---  ------  --------------  -----  \n",
      " 0   Date    32469 non-null  object \n",
      " 1   Open    32469 non-null  float64\n",
      " 2   High    32469 non-null  float64\n",
      " 3   Low     32469 non-null  float64\n",
      " 4   Close   32469 non-null  float64\n",
      " 5   Volume  32469 non-null  int64  \n",
      "dtypes: float64(4), int64(1), object(1)\n",
      "memory usage: 1.5+ MB\n"
     ]
    }
   ],
   "source": [
    "dataset_train.info()"
   ]
  },
  {
   "cell_type": "code",
   "execution_count": 16,
   "metadata": {},
   "outputs": [],
   "source": [
    "dataset_train[\"Close\"] = pd.to_numeric(dataset_train.Close, errors = 'coerce')\n",
    "dataset_train = dataset_train.dropna()"
   ]
  },
  {
   "cell_type": "code",
   "execution_count": 17,
   "metadata": {},
   "outputs": [
    {
     "name": "stdout",
     "output_type": "stream",
     "text": [
      "[[49.  ]\n",
      " [48.95]\n",
      " [48.95]\n",
      " ...\n",
      " [58.2 ]\n",
      " [58.1 ]\n",
      " [58.1 ]]\n",
      "(32469, 1)\n"
     ]
    }
   ],
   "source": [
    "training_set = dataset_train.iloc[:,4:5].values # use values of the Close column\n",
    "print(training_set)\n",
    "print(training_set.shape)"
   ]
  },
  {
   "cell_type": "code",
   "execution_count": 19,
   "metadata": {},
   "outputs": [
    {
     "name": "stdout",
     "output_type": "stream",
     "text": [
      "<class 'pandas.core.frame.DataFrame'>\n",
      "RangeIndex: 32469 entries, 0 to 32468\n",
      "Data columns (total 6 columns):\n",
      " #   Column  Non-Null Count  Dtype  \n",
      "---  ------  --------------  -----  \n",
      " 0   Date    32469 non-null  object \n",
      " 1   Open    32469 non-null  float64\n",
      " 2   High    32469 non-null  float64\n",
      " 3   Low     32469 non-null  float64\n",
      " 4   Close   32469 non-null  float64\n",
      " 5   Volume  32469 non-null  int64  \n",
      "dtypes: float64(4), int64(1), object(1)\n",
      "memory usage: 1.5+ MB\n"
     ]
    }
   ],
   "source": [
    "dataset_train.info()"
   ]
  },
  {
   "cell_type": "code",
   "execution_count": 5,
   "metadata": {},
   "outputs": [],
   "source": [
    "# Normalizing dataset\n",
    "from sklearn.preprocessing import MinMaxScaler\n",
    "\n",
    "scaler = MinMaxScaler(feature_range=(0,1))\n",
    "scaled_training_set = scaler.fit_transform(training_set)"
   ]
  },
  {
   "cell_type": "code",
   "execution_count": 21,
   "metadata": {},
   "outputs": [
    {
     "data": {
      "text/plain": [
       "(32469, 1)"
      ]
     },
     "execution_count": 21,
     "metadata": {},
     "output_type": "execute_result"
    }
   ],
   "source": [
    "scaled_training_set.shape"
   ]
  },
  {
   "cell_type": "code",
   "execution_count": 22,
   "metadata": {},
   "outputs": [],
   "source": [
    "# Creating X_train and y_train data structures\n",
    "X_train = []\n",
    "y_train = []\n",
    "for i in range(60, 32469):\n",
    "    # timestep = 60\n",
    "    X_train.append(scaled_training_set[i - 60:i, 0])\n",
    "    y_train.append(scaled_training_set[i, 0])\n",
    "X_train = np.array(X_train)\n",
    "y_train = np.array(y_train)"
   ]
  },
  {
   "cell_type": "code",
   "execution_count": 25,
   "metadata": {},
   "outputs": [],
   "source": [
    "X_train = np.reshape(X_train,(X_train.shape[0],X_train.shape[1],1)) #adding the batch_size axis"
   ]
  },
  {
   "cell_type": "code",
   "execution_count": 26,
   "metadata": {},
   "outputs": [
    {
     "name": "stdout",
     "output_type": "stream",
     "text": [
      "(32409, 60, 1)\n",
      "(32409,)\n"
     ]
    }
   ],
   "source": [
    "print(X_train.shape)\n",
    "print(y_train.shape)"
   ]
  },
  {
   "cell_type": "code",
   "execution_count": 10,
   "metadata": {},
   "outputs": [
    {
     "name": "stderr",
     "output_type": "stream",
     "text": [
      "2022-12-14 21:19:39.525087: I tensorflow/core/platform/cpu_feature_guard.cc:193] This TensorFlow binary is optimized with oneAPI Deep Neural Network Library (oneDNN) to use the following CPU instructions in performance-critical operations:  AVX2 FMA\n",
      "To enable them in other operations, rebuild TensorFlow with the appropriate compiler flags.\n"
     ]
    }
   ],
   "source": [
    "# Building the model by importing the Crucial Libraries and Adding Different Layers to LSTM\n",
    "from keras.models import Sequential\n",
    "from keras.layers import LSTM\n",
    "from keras.layers import Dense \n",
    "from keras.layers import Dropout"
   ]
  },
  {
   "cell_type": "code",
   "execution_count": 27,
   "metadata": {},
   "outputs": [],
   "source": [
    "model = Sequential()\n",
    "\n",
    "model.add(LSTM(units=100, return_sequences = True, input_shape =(X_train.shape[1],1)))\n",
    "model.add(Dropout(0.2))\n",
    "\n",
    "model.add(LSTM(units=100, return_sequences = True))\n",
    "model.add(Dropout(0.2))\n",
    "\n",
    "model.add(LSTM(units=100, return_sequences = True))\n",
    "model.add(Dropout(0.2))\n",
    "\n",
    "model.add(LSTM(units=100, return_sequences = False))\n",
    "model.add(Dropout(0.2))\n",
    "\n",
    "model.add(Dense(units =1))\n",
    "model.compile(optimizer='adam',loss=\"mean_squared_error\")"
   ]
  },
  {
   "cell_type": "code",
   "execution_count": 28,
   "metadata": {},
   "outputs": [
    {
     "name": "stdout",
     "output_type": "stream",
     "text": [
      "Epoch 1/20\n",
      "1013/1013 - 135s - loss: 0.0023 - 135s/epoch - 133ms/step\n",
      "Epoch 2/20\n",
      "1013/1013 - 130s - loss: 8.8575e-04 - 130s/epoch - 129ms/step\n",
      "Epoch 3/20\n",
      "1013/1013 - 147s - loss: 6.8745e-04 - 147s/epoch - 145ms/step\n",
      "Epoch 4/20\n",
      "1013/1013 - 154s - loss: 5.4923e-04 - 154s/epoch - 152ms/step\n",
      "Epoch 5/20\n",
      "1013/1013 - 155s - loss: 4.9997e-04 - 155s/epoch - 153ms/step\n",
      "Epoch 6/20\n",
      "1013/1013 - 155s - loss: 4.3375e-04 - 155s/epoch - 153ms/step\n",
      "Epoch 7/20\n",
      "1013/1013 - 133s - loss: 3.9343e-04 - 133s/epoch - 131ms/step\n",
      "Epoch 8/20\n",
      "1013/1013 - 136s - loss: 3.7696e-04 - 136s/epoch - 134ms/step\n",
      "Epoch 9/20\n",
      "1013/1013 - 150s - loss: 3.3346e-04 - 150s/epoch - 148ms/step\n",
      "Epoch 10/20\n",
      "1013/1013 - 155s - loss: 3.2618e-04 - 155s/epoch - 153ms/step\n",
      "Epoch 11/20\n",
      "1013/1013 - 150s - loss: 3.2434e-04 - 150s/epoch - 148ms/step\n",
      "Epoch 12/20\n",
      "1013/1013 - 154s - loss: 3.0071e-04 - 154s/epoch - 152ms/step\n",
      "Epoch 13/20\n",
      "1013/1013 - 144s - loss: 3.0794e-04 - 144s/epoch - 142ms/step\n",
      "Epoch 14/20\n",
      "1013/1013 - 151s - loss: 2.8845e-04 - 151s/epoch - 149ms/step\n",
      "Epoch 15/20\n",
      "1013/1013 - 142s - loss: 2.9955e-04 - 142s/epoch - 140ms/step\n",
      "Epoch 16/20\n",
      "1013/1013 - 139s - loss: 2.7511e-04 - 139s/epoch - 137ms/step\n",
      "Epoch 17/20\n",
      "1013/1013 - 127s - loss: 2.7117e-04 - 127s/epoch - 125ms/step\n",
      "Epoch 18/20\n",
      "1013/1013 - 124s - loss: 2.8780e-04 - 124s/epoch - 122ms/step\n",
      "Epoch 19/20\n",
      "1013/1013 - 122s - loss: 2.7646e-04 - 122s/epoch - 121ms/step\n",
      "Epoch 20/20\n",
      "1013/1013 - 121s - loss: 2.7526e-04 - 121s/epoch - 119ms/step\n"
     ]
    }
   ],
   "source": [
    "hist = model.fit(X_train, y_train, epochs = 20, batch_size = 32, verbose=2)"
   ]
  },
  {
   "cell_type": "code",
   "execution_count": 29,
   "metadata": {},
   "outputs": [
    {
     "data": {
      "image/png": "[encoded data removed]",
      "text/plain": [
       "<Figure size 640x480 with 1 Axes>"
      ]
     },
     "metadata": {},
     "output_type": "display_data"
    }
   ],
   "source": [
    "plt.plot(hist.history['loss'])\n",
    "plt.title('Training model loss')\n",
    "plt.ylabel('loss')\n",
    "plt.xlabel('epoch')\n",
    "plt.legend(['train'], loc='upper left')\n",
    "plt.show()"
   ]
  },
  {
   "cell_type": "code",
   "execution_count": 30,
   "metadata": {},
   "outputs": [
    {
     "data": {
      "text/html": [
       "<div>\n",
       "<style scoped>\n",
       "    .dataframe tbody tr th:only-of-type {\n",
       "        vertical-align: middle;\n",
       "    }\n",
       "\n",
       "    .dataframe tbody tr th {\n",
       "        vertical-align: top;\n",
       "    }\n",
       "\n",
       "    .dataframe thead th {\n",
       "        text-align: right;\n",
       "    }\n",
       "</style>\n",
       "<table border=\"1\" class=\"dataframe\">\n",
       "  <thead>\n",
       "    <tr style=\"text-align: right;\">\n",
       "      <th></th>\n",
       "      <th>Date</th>\n",
       "      <th>Open</th>\n",
       "      <th>High</th>\n",
       "      <th>Low</th>\n",
       "      <th>Close</th>\n",
       "      <th>Volume</th>\n",
       "    </tr>\n",
       "  </thead>\n",
       "  <tbody>\n",
       "    <tr>\n",
       "      <th>0</th>\n",
       "      <td>12/25/2018 9:15</td>\n",
       "      <td>30.89</td>\n",
       "      <td>30.89</td>\n",
       "      <td>30.89</td>\n",
       "      <td>30.89</td>\n",
       "      <td>35410</td>\n",
       "    </tr>\n",
       "    <tr>\n",
       "      <th>1</th>\n",
       "      <td>12/25/2018 9:16</td>\n",
       "      <td>30.81</td>\n",
       "      <td>30.81</td>\n",
       "      <td>30.81</td>\n",
       "      <td>30.81</td>\n",
       "      <td>190</td>\n",
       "    </tr>\n",
       "    <tr>\n",
       "      <th>2</th>\n",
       "      <td>12/25/2018 9:17</td>\n",
       "      <td>30.74</td>\n",
       "      <td>30.81</td>\n",
       "      <td>30.74</td>\n",
       "      <td>30.74</td>\n",
       "      <td>1120</td>\n",
       "    </tr>\n",
       "    <tr>\n",
       "      <th>3</th>\n",
       "      <td>12/25/2018 9:18</td>\n",
       "      <td>30.74</td>\n",
       "      <td>30.74</td>\n",
       "      <td>30.74</td>\n",
       "      <td>30.74</td>\n",
       "      <td>2120</td>\n",
       "    </tr>\n",
       "    <tr>\n",
       "      <th>4</th>\n",
       "      <td>12/25/2018 9:19</td>\n",
       "      <td>30.74</td>\n",
       "      <td>30.74</td>\n",
       "      <td>30.74</td>\n",
       "      <td>30.74</td>\n",
       "      <td>22500</td>\n",
       "    </tr>\n",
       "  </tbody>\n",
       "</table>\n",
       "</div>"
      ],
      "text/plain": [
       "              Date   Open   High    Low  Close  Volume\n",
       "0  12/25/2018 9:15  30.89  30.89  30.89  30.89   35410\n",
       "1  12/25/2018 9:16  30.81  30.81  30.81  30.81     190\n",
       "2  12/25/2018 9:17  30.74  30.81  30.74  30.74    1120\n",
       "3  12/25/2018 9:18  30.74  30.74  30.74  30.74    2120\n",
       "4  12/25/2018 9:19  30.74  30.74  30.74  30.74   22500"
      ]
     },
     "execution_count": 30,
     "metadata": {},
     "output_type": "execute_result"
    }
   ],
   "source": [
    "dataset_test = pd.read_csv('testset_FPT.csv')\n",
    "dataset_test = dataset_test.drop(['Ticker', 'Open Interest'], axis = 1)\n",
    "dataset_test = dataset_test.rename(columns = {'Date/Time':'Date'})\n",
    "dataset_test.head()"
   ]
  },
  {
   "cell_type": "code",
   "execution_count": 31,
   "metadata": {},
   "outputs": [
    {
     "data": {
      "text/plain": [
       "(64878, 60, 1)"
      ]
     },
     "execution_count": 31,
     "metadata": {},
     "output_type": "execute_result"
    }
   ],
   "source": [
    "dataset_test[\"Close\"] = pd.to_numeric(dataset_test.Close, errors = 'coerce')\n",
    "dataset_test = dataset_test.dropna()\n",
    "dataset_test = dataset_test.iloc[:,4:5]\n",
    "y_test = dataset_test.iloc[60:,0:].values\n",
    "\n",
    "#input array for the model\n",
    "inputClosing = dataset_test.iloc[:,0:].values\n",
    "inputClosing_scaled = scaler.transform(inputClosing)\n",
    "inputClosing_scaled.shape\n",
    "X_test = []\n",
    "length = len(dataset_test)\n",
    "timestep = 60\n",
    "for i in range(timestep, length):\n",
    "    X_test.append(inputClosing_scaled[i - timestep:i,0])\n",
    "X_test = np.array(X_test)\n",
    "X_test = np.reshape(X_test, (X_test.shape[0], X_test.shape[1], 1))\n",
    "X_test.shape"
   ]
  },
  {
   "cell_type": "code",
   "execution_count": 32,
   "metadata": {},
   "outputs": [
    {
     "name": "stdout",
     "output_type": "stream",
     "text": [
      "2028/2028 [==============================] - 94s 45ms/step\n"
     ]
    },
    {
     "data": {
      "text/plain": [
       "array([[-0.25424466],\n",
       "       [-0.2531834 ],\n",
       "       [-0.25263503],\n",
       "       ...,\n",
       "       [ 0.3555705 ],\n",
       "       [ 0.35484493],\n",
       "       [ 0.35405165]], dtype=float32)"
      ]
     },
     "execution_count": 32,
     "metadata": {},
     "output_type": "execute_result"
    }
   ],
   "source": [
    "y_pred = model.predict(X_test)\n",
    "y_pred"
   ]
  },
  {
   "cell_type": "code",
   "execution_count": 33,
   "metadata": {},
   "outputs": [],
   "source": [
    "predicted_price = scaler.inverse_transform(y_pred)"
   ]
  },
  {
   "cell_type": "code",
   "execution_count": 34,
   "metadata": {},
   "outputs": [
    {
     "data": {
      "image/png": "[encoded data removed]",
      "text/plain": [
       "<Figure size 640x480 with 1 Axes>"
      ]
     },
     "metadata": {},
     "output_type": "display_data"
    }
   ],
   "source": [
    "plt.plot(y_test, color = 'red', label = 'Actual Stock Price')\n",
    "plt.plot(predicted_price, color = 'green', label = 'Predicted Stock Price')\n",
    "plt.title('FPT stock price prediction')\n",
    "plt.xlabel('Time')\n",
    "plt.ylabel('Stock Price')\n",
    "plt.legend()\n",
    "plt.show()"
   ]
  }
 ],
 "metadata": {
  "kernelspec": {
   "display_name": "Python 3",
   "language": "python",
   "name": "python3"
  },
  "language_info": {
   "codemirror_mode": {
    "name": "ipython",
    "version": 3
   },
   "file_extension": ".py",
   "mimetype": "text/x-python",
   "name": "python",
   "nbconvert_exporter": "python",
   "pygments_lexer": "ipython3",
   "version": "3.10.6"
  },
  "orig_nbformat": 4,
  "vscode": {
   "interpreter": {
    "hash": "aee8b7b246df8f9039afb4144a1f6fd8d2ca17a180786b69acc140d282b71a49"
   }
  }
 },
 "nbformat": 4,
 "nbformat_minor": 2
}
